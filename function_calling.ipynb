{
  "nbformat": 4,
  "nbformat_minor": 0,
  "metadata": {
    "colab": {
      "provenance": [],
      "toc_visible": true
    },
    "kernelspec": {
      "name": "python3",
      "display_name": "Python 3"
    },
    "language_info": {
      "name": "python"
    }
  },
  "cells": [
    {
      "cell_type": "markdown",
      "source": [
        "# Udemy講座「LangChainによる大規模言語モデル（LLM）アプリケーション開発入門」セクション「（アップデート）OpenAI の Chat API の Function calling 機能について」のソースコード"
      ],
      "metadata": {
        "id": "gPaBhIsrXpyS"
      }
    },
    {
      "cell_type": "markdown",
      "source": [
        "## 1. Function calling の基本"
      ],
      "metadata": {
        "id": "9GnZluClXy2r"
      }
    },
    {
      "cell_type": "code",
      "source": [
        "import os\n",
        "\n",
        "os.environ[\"OPENAI_API_KEY\"] = \"your-openai-api-key\""
      ],
      "metadata": {
        "id": "6Q8D-SSuYDsK"
      },
      "execution_count": null,
      "outputs": []
    },
    {
      "cell_type": "code",
      "execution_count": null,
      "metadata": {
        "id": "yUmuS7FiXk1a"
      },
      "outputs": [],
      "source": [
        "!pip install --quiet langchain==0.0.229 openai==0.27.8"
      ]
    },
    {
      "cell_type": "markdown",
      "source": [
        "以下はOpenAIの公式のサンプルコードをもとに一部変更（printの追加など）したソースコードです。\n",
        "\n",
        "参考：https://platform.openai.com/docs/guides/gpt/function-calling"
      ],
      "metadata": {
        "id": "TfUeweMPZhiu"
      }
    },
    {
      "cell_type": "code",
      "source": [
        "import openai\n",
        "import json\n",
        "\n",
        "\n",
        "# Example dummy function hard coded to return the same weather\n",
        "# In production, this could be your backend API or an external API\n",
        "def get_current_weather(location, unit=\"fahrenheit\"):\n",
        "    \"\"\"Get the current weather in a given location\"\"\"\n",
        "    weather_info = {\n",
        "        \"location\": location,\n",
        "        \"temperature\": \"72\",\n",
        "        \"unit\": unit,\n",
        "        \"forecast\": [\"sunny\", \"windy\"],\n",
        "    }\n",
        "    return json.dumps(weather_info)\n",
        "\n",
        "\n",
        "def run_conversation():\n",
        "    # Step 1: send the conversation and available functions to GPT\n",
        "    messages = [{\"role\": \"user\", \"content\": \"What's the weather like in Boston?\"}]\n",
        "    functions = [\n",
        "        {\n",
        "            \"name\": \"get_current_weather\",\n",
        "            \"description\": \"Get the current weather in a given location\",\n",
        "            \"parameters\": {\n",
        "                \"type\": \"object\",\n",
        "                \"properties\": {\n",
        "                    \"location\": {\n",
        "                        \"type\": \"string\",\n",
        "                        \"description\": \"The city and state, e.g. San Francisco, CA\",\n",
        "                    },\n",
        "                    \"unit\": {\"type\": \"string\", \"enum\": [\"celsius\", \"fahrenheit\"]},\n",
        "                },\n",
        "                \"required\": [\"location\"],\n",
        "            },\n",
        "        }\n",
        "    ]\n",
        "    response = openai.ChatCompletion.create(\n",
        "        model=\"gpt-3.5-turbo-0613\",\n",
        "        messages=messages,\n",
        "        functions=functions,\n",
        "        function_call=\"auto\",  # auto is default, but we'll be explicit\n",
        "    )\n",
        "    print(\"=== first response ===\")\n",
        "    print(response)\n",
        "    response_message = response[\"choices\"][0][\"message\"]\n",
        "\n",
        "    # Step 2: check if GPT wanted to call a function\n",
        "    if response_message.get(\"function_call\"):\n",
        "        # Step 3: call the function\n",
        "        # Note: the JSON response may not always be valid; be sure to handle errors\n",
        "        available_functions = {\n",
        "            \"get_current_weather\": get_current_weather,\n",
        "        }  # only one function in this example, but you can have multiple\n",
        "        function_name = response_message[\"function_call\"][\"name\"]\n",
        "        fuction_to_call = available_functions[function_name]\n",
        "        function_args = json.loads(response_message[\"function_call\"][\"arguments\"])\n",
        "        function_response = fuction_to_call(\n",
        "            location=function_args.get(\"location\"),\n",
        "            unit=function_args.get(\"unit\"),\n",
        "        )\n",
        "        print(\"=== python function output ===\")\n",
        "        print(function_response)\n",
        "\n",
        "        # Step 4: send the info on the function call and function response to GPT\n",
        "        messages.append(response_message)  # extend conversation with assistant's reply\n",
        "        messages.append(\n",
        "            {\n",
        "                \"role\": \"function\",\n",
        "                \"name\": function_name,\n",
        "                \"content\": function_response,\n",
        "            }\n",
        "        )  # extend conversation with function response\n",
        "        print(\"=== second request messages ===\")\n",
        "        print(json.dumps(messages, indent=2))\n",
        "        second_response = openai.ChatCompletion.create(\n",
        "            model=\"gpt-3.5-turbo-0613\",\n",
        "            messages=messages,\n",
        "        )  # get a new response from GPT where it can see the function response\n",
        "        print(\"=== second response ===\")\n",
        "        print(second_response)\n",
        "\n",
        "\n",
        "run_conversation()"
      ],
      "metadata": {
        "id": "HtpIkTOoYQyG"
      },
      "execution_count": null,
      "outputs": []
    },
    {
      "cell_type": "markdown",
      "source": [
        "## 2. Function calling を使った LangChain の「OpenAI Functions Agent」"
      ],
      "metadata": {
        "id": "cYVllqZpX4SQ"
      }
    },
    {
      "cell_type": "code",
      "source": [
        "import json\n",
        "\n",
        "import openai\n",
        "from langchain.agents import AgentType, initialize_agent, Tool\n",
        "from langchain.chat_models import ChatOpenAI\n",
        "\n",
        "def get_current_weather(location, unit=\"fahrenheit\"):\n",
        "    \"\"\"Get the current weather in a given location\"\"\"\n",
        "    weather_info = {\n",
        "        \"location\": location,\n",
        "        \"temperature\": \"72\",\n",
        "        \"unit\": unit,\n",
        "        \"forecast\": [\"sunny\", \"windy\"],\n",
        "    }\n",
        "    return json.dumps(weather_info)\n",
        "\n",
        "tools = [\n",
        "    Tool(\n",
        "        name=\"get_current_weather\",\n",
        "        func=get_current_weather,\n",
        "        description=\"Get the current weather in a given location\"\n",
        "    )\n",
        "]\n",
        "\n",
        "chat = ChatOpenAI(model=\"gpt-3.5-turbo\", temperature=0)\n",
        "agent = initialize_agent(tools, chat, agent=AgentType.OPENAI_FUNCTIONS)\n",
        "\n",
        "result = agent.run(\"What's the weather like in Boston?\")\n",
        "print(result)\n"
      ],
      "metadata": {
        "id": "YeTACULxd0Za"
      },
      "execution_count": null,
      "outputs": []
    },
    {
      "cell_type": "code",
      "source": [
        "import openai\n",
        "from langchain.agents import AgentType, initialize_agent, load_tools\n",
        "from langchain.chat_models import ChatOpenAI\n",
        "\n",
        "chat = ChatOpenAI(model=\"gpt-3.5-turbo\", temperature=0)\n",
        "tools = load_tools([\"terminal\", \"llm-math\"], llm=chat)\n",
        "agent = initialize_agent(tools, chat, agent=AgentType.OPENAI_FUNCTIONS)\n",
        "\n",
        "result = agent.run(\"Show files in ./sample_data directory.\")\n",
        "print(result)"
      ],
      "metadata": {
        "id": "enGZhQ0IX8oJ"
      },
      "execution_count": null,
      "outputs": []
    },
    {
      "cell_type": "markdown",
      "source": [
        "## 3. Function calling を応用した Extraction と Tagging"
      ],
      "metadata": {
        "id": "JUKtMHXMX9F4"
      }
    },
    {
      "cell_type": "markdown",
      "source": [
        "以下はLangChainの公式ドキュメントのこちらのページを参考にしたサンプルコードです。\n",
        "\n",
        "https://python.langchain.com/docs/modules/chains/additional/extraction\n",
        "\n",
        "※ LangChainの公式ドキュメントは高い頻度でリンク切れになります。もしリンク切れになっている場合は、LangChainのドキュメントで「Extraction」と検索してみてください。"
      ],
      "metadata": {
        "id": "PxQdhrhmmt9J"
      }
    },
    {
      "cell_type": "code",
      "source": [
        "import json\n",
        "\n",
        "import openai\n",
        "import langchain\n",
        "from langchain.chat_models import ChatOpenAI\n",
        "from langchain.chains import create_extraction_chain, create_extraction_chain_pydantic\n",
        "from langchain.prompts import ChatPromptTemplate\n",
        "\n",
        "openai.log = \"debug\"\n",
        "langchain.verbose = True\n",
        "\n",
        "schema = {\n",
        "    \"properties\": {\n",
        "        \"person_name\": {\"type\": \"string\"},\n",
        "        \"person_height\": {\"type\": \"integer\"},\n",
        "        \"person_hair_color\": {\"type\": \"string\"},\n",
        "        \"dog_name\": {\"type\": \"string\"},\n",
        "        \"dog_breed\": {\"type\": \"string\"},\n",
        "    },\n",
        "    \"required\": [\"person_name\", \"person_height\"],\n",
        "}\n",
        "inp = \"\"\"\n",
        "Alex is 5 feet tall. Claudia is 1 feet taller Alex and jumps higher than him. Claudia is a brunette and Alex is blonde.\n",
        "Alex's dog Frosty is a labrador and likes to play hide and seek.\n",
        "\"\"\"\n",
        "\n",
        "chat = ChatOpenAI(model=\"gpt-3.5-turbo\", temperature=0)\n",
        "chain = create_extraction_chain(schema, chat)\n",
        "\n",
        "result = chain.run(inp)\n",
        "print(f\"\"\"=== result ===\n",
        "{json.dumps(result, indent=2)}\n",
        "===\"\"\")"
      ],
      "metadata": {
        "id": "nhT9f_seX-8u"
      },
      "execution_count": null,
      "outputs": []
    },
    {
      "cell_type": "markdown",
      "source": [
        "以下はLangChainの公式ドキュメントのこちらのページを参考にしたサンプルコードです。\n",
        "\n",
        "https://python.langchain.com/docs/modules/chains/additional/tagging\n",
        "\n",
        "※ LangChainの公式ドキュメントは高い頻度でリンク切れになります。もしリンク切れになっている場合は、LangChainのドキュメントで「Tagging」と検索してみてください。"
      ],
      "metadata": {
        "id": "y-pYlTwanQFD"
      }
    },
    {
      "cell_type": "code",
      "source": [
        "import openai\n",
        "from langchain.chat_models import ChatOpenAI\n",
        "from langchain.chains import create_tagging_chain, create_tagging_chain_pydantic\n",
        "from langchain.prompts import ChatPromptTemplate\n",
        "\n",
        "openai.log = \"debug\"\n",
        "langchain.verbose = True\n",
        "\n",
        "schema = {\n",
        "    \"properties\": {\n",
        "        \"sentiment\": {\"type\": \"string\"},\n",
        "        \"aggressiveness\": {\"type\": \"integer\"},\n",
        "        \"language\": {\"type\": \"string\"},\n",
        "    }\n",
        "}\n",
        "\n",
        "chat = ChatOpenAI(model=\"gpt-3.5-turbo\", temperature=0)\n",
        "chain = create_tagging_chain(schema, chat)\n",
        "\n",
        "inp = \"Estoy muy enojado con vos! Te voy a dar tu merecido!\"\n",
        "\n",
        "result = chain.run(inp)\n",
        "print(f\"\"\"=== result ===\n",
        "{json.dumps(result, indent=2)}\n",
        "===\"\"\")"
      ],
      "metadata": {
        "id": "m0fhnhBIkuel"
      },
      "execution_count": null,
      "outputs": []
    },
    {
      "cell_type": "markdown",
      "source": [
        "## 4. 1 度に複数の関数を実行できる LangChain の「OpenAI Multi Functions Agent」"
      ],
      "metadata": {
        "id": "86Brxh4OYAyL"
      }
    },
    {
      "cell_type": "markdown",
      "source": [
        "以下はLangChainの公式ドキュメントのこちらのページを参考にしたサンプルコードです。\n",
        "\n",
        "https://python.langchain.com/docs/modules/agents/agent_types/openai_multi_functions_agent\n",
        "\n",
        "※ LangChainの公式ドキュメントは高い頻度でリンク切れになります。もしリンク切れになっている場合は、LangChainのドキュメントで「OpenAI Multi Functions Agent」などと検索してみてください。"
      ],
      "metadata": {
        "id": "v3A6uhLEnakx"
      }
    },
    {
      "cell_type": "code",
      "source": [
        "# duckduckgo-searchのバージョン3.8.3は動作しなくなったため、バージョン4.1.0をインストールします\n",
        "\n",
        "!pip install --quiet duckduckgo-search==4.1.0"
      ],
      "metadata": {
        "id": "tzA7CDvMmHAk"
      },
      "execution_count": null,
      "outputs": []
    },
    {
      "cell_type": "code",
      "source": [
        "import langchain\n",
        "import openai\n",
        "from langchain.agents import AgentType, initialize_agent, load_tools\n",
        "from langchain.chat_models import ChatOpenAI\n",
        "\n",
        "langchain.debug = True\n",
        "langchain.verbose = False\n",
        "openai.log = \"info\"\n",
        "\n",
        "tools = load_tools([\"ddg-search\"])\n",
        "chat = ChatOpenAI(model=\"gpt-3.5-turbo\", temperature=0)\n",
        "agent = initialize_agent(tools, chat, agent=AgentType.OPENAI_MULTI_FUNCTIONS)\n",
        "\n",
        "result = agent.run(\n",
        "    \"What is the weather in LA and SF?\"\n",
        ")\n",
        "print(f\"\"\"=== result ===\n",
        "{result}\n",
        "===\"\"\")"
      ],
      "metadata": {
        "id": "3ZSkY59CYBwY"
      },
      "execution_count": null,
      "outputs": []
    },
    {
      "cell_type": "code",
      "source": [],
      "metadata": {
        "id": "QAxTRphfmFEb"
      },
      "execution_count": null,
      "outputs": []
    }
  ]
}